{
  "cells": [
    {
      "cell_type": "markdown",
      "metadata": {
        "id": "fKADPWcFKlj3"
      },
      "source": [
        "# **1. Import Library**"
      ]
    },
    {
      "cell_type": "markdown",
      "metadata": {
        "id": "LgA3ERnVn84N"
      },
      "source": [
        "Pada tahap ini, Anda perlu mengimpor beberapa pustaka (library) Python yang dibutuhkan untuk analisis data dan pembangunan model machine learning."
      ]
    },
    {
      "cell_type": "code",
      "execution_count": 73,
      "metadata": {
        "id": "BlmvjLY9M4Yj"
      },
      "outputs": [],
      "source": [
        "import pandas as pd\n",
        "import numpy as np\n",
        "import seaborn as sns\n",
        "import matplotlib.pyplot as plt\n",
        "from sklearn.model_selection import train_test_split\n",
        "from sklearn.preprocessing import LabelEncoder, StandardScaler, MinMaxScaler\n",
        "from sklearn.neighbors import KNeighborsClassifier\n",
        "from sklearn.tree import DecisionTreeClassifier\n",
        "from sklearn.ensemble import RandomForestClassifier\n",
        "from sklearn.ensemble import RandomForestRegressor\n",
        "from sklearn.svm import SVC\n",
        "from sklearn.naive_bayes import GaussianNB\n",
        "from sklearn.metrics import confusion_matrix, accuracy_score, precision_score, recall_score, f1_score, mean_absolute_error, mean_squared_error, r2_score\n",
        "from sklearn.decomposition import PCA"
      ]
    },
    {
      "cell_type": "markdown",
      "metadata": {
        "id": "f3YIEnAFKrKL"
      },
      "source": [
        "# **2. Memuat Dataset dari Hasil Clustering**"
      ]
    },
    {
      "cell_type": "markdown",
      "metadata": {
        "id": "Ey3ItwTen_7E"
      },
      "source": [
        "Memuat dataset hasil clustering dari file CSV ke dalam variabel DataFrame."
      ]
    },
    {
      "cell_type": "code",
      "execution_count": 74,
      "metadata": {
        "id": "GHCGNTyrM5fS"
      },
      "outputs": [
        {
          "data": {
            "text/html": [
              "<div>\n",
              "<style scoped>\n",
              "    .dataframe tbody tr th:only-of-type {\n",
              "        vertical-align: middle;\n",
              "    }\n",
              "\n",
              "    .dataframe tbody tr th {\n",
              "        vertical-align: top;\n",
              "    }\n",
              "\n",
              "    .dataframe thead th {\n",
              "        text-align: right;\n",
              "    }\n",
              "</style>\n",
              "<table border=\"1\" class=\"dataframe\">\n",
              "  <thead>\n",
              "    <tr style=\"text-align: right;\">\n",
              "      <th></th>\n",
              "      <th>Cause</th>\n",
              "      <th>Type</th>\n",
              "      <th>Year</th>\n",
              "      <th>Data Redundancy</th>\n",
              "      <th>Total Deaths</th>\n",
              "      <th>Source</th>\n",
              "      <th>Page at Source</th>\n",
              "      <th>Source URL</th>\n",
              "      <th>Cluster</th>\n",
              "    </tr>\n",
              "  </thead>\n",
              "  <tbody>\n",
              "    <tr>\n",
              "      <th>0</th>\n",
              "      <td>Abrasi Air Laut</td>\n",
              "      <td>0</td>\n",
              "      <td>2012</td>\n",
              "      <td>1.0</td>\n",
              "      <td>0.0</td>\n",
              "      <td>Profil Kesehatan Indonesia Tahun 2012</td>\n",
              "      <td>Lampiran 3.38</td>\n",
              "      <td>https://pusdatin.kemkes.go.id/download.php?fil...</td>\n",
              "      <td>0.0</td>\n",
              "    </tr>\n",
              "    <tr>\n",
              "      <th>1</th>\n",
              "      <td>AIDS</td>\n",
              "      <td>1</td>\n",
              "      <td>2000</td>\n",
              "      <td>1.0</td>\n",
              "      <td>47.0</td>\n",
              "      <td>Profil Kesehatan Indonesia Tahun 2004</td>\n",
              "      <td>78</td>\n",
              "      <td>https://pusdatin.kemkes.go.id/download.php?fil...</td>\n",
              "      <td>0.0</td>\n",
              "    </tr>\n",
              "    <tr>\n",
              "      <th>2</th>\n",
              "      <td>AIDS</td>\n",
              "      <td>1</td>\n",
              "      <td>2001</td>\n",
              "      <td>1.0</td>\n",
              "      <td>99.0</td>\n",
              "      <td>Profil Kesehatan Indonesia Tahun 2004</td>\n",
              "      <td>78</td>\n",
              "      <td>https://pusdatin.kemkes.go.id/download.php?fil...</td>\n",
              "      <td>0.0</td>\n",
              "    </tr>\n",
              "    <tr>\n",
              "      <th>3</th>\n",
              "      <td>AIDS</td>\n",
              "      <td>1</td>\n",
              "      <td>2002</td>\n",
              "      <td>1.0</td>\n",
              "      <td>100.0</td>\n",
              "      <td>Profil Kesehatan Indonesia Tahun 2004</td>\n",
              "      <td>78</td>\n",
              "      <td>https://pusdatin.kemkes.go.id/download.php?fil...</td>\n",
              "      <td>0.0</td>\n",
              "    </tr>\n",
              "    <tr>\n",
              "      <th>4</th>\n",
              "      <td>AIDS</td>\n",
              "      <td>1</td>\n",
              "      <td>2003</td>\n",
              "      <td>5.0</td>\n",
              "      <td>261.0</td>\n",
              "      <td>Profil Kesehatan Indonesia Tahun 2004</td>\n",
              "      <td>78</td>\n",
              "      <td>https://pusdatin.kemkes.go.id/download.php?fil...</td>\n",
              "      <td>0.0</td>\n",
              "    </tr>\n",
              "  </tbody>\n",
              "</table>\n",
              "</div>"
            ],
            "text/plain": [
              "             Cause  Type  Year  Data Redundancy  Total Deaths  \\\n",
              "0  Abrasi Air Laut     0  2012              1.0           0.0   \n",
              "1             AIDS     1  2000              1.0          47.0   \n",
              "2             AIDS     1  2001              1.0          99.0   \n",
              "3             AIDS     1  2002              1.0         100.0   \n",
              "4             AIDS     1  2003              5.0         261.0   \n",
              "\n",
              "                                  Source Page at Source  \\\n",
              "0  Profil Kesehatan Indonesia Tahun 2012  Lampiran 3.38   \n",
              "1  Profil Kesehatan Indonesia Tahun 2004             78   \n",
              "2  Profil Kesehatan Indonesia Tahun 2004             78   \n",
              "3  Profil Kesehatan Indonesia Tahun 2004             78   \n",
              "4  Profil Kesehatan Indonesia Tahun 2004             78   \n",
              "\n",
              "                                          Source URL  Cluster  \n",
              "0  https://pusdatin.kemkes.go.id/download.php?fil...      0.0  \n",
              "1  https://pusdatin.kemkes.go.id/download.php?fil...      0.0  \n",
              "2  https://pusdatin.kemkes.go.id/download.php?fil...      0.0  \n",
              "3  https://pusdatin.kemkes.go.id/download.php?fil...      0.0  \n",
              "4  https://pusdatin.kemkes.go.id/download.php?fil...      0.0  "
            ]
          },
          "execution_count": 74,
          "metadata": {},
          "output_type": "execute_result"
        }
      ],
      "source": [
        "data = pd.read_csv(\"../inisiasi_df.csv\")\n",
        "data.head()"
      ]
    },
    {
      "cell_type": "code",
      "execution_count": 75,
      "metadata": {},
      "outputs": [
        {
          "name": "stdout",
          "output_type": "stream",
          "text": [
            "\n",
            "Informasi dataset:\n",
            "<class 'pandas.core.frame.DataFrame'>\n",
            "RangeIndex: 1059 entries, 0 to 1058\n",
            "Data columns (total 9 columns):\n",
            " #   Column           Non-Null Count  Dtype  \n",
            "---  ------           --------------  -----  \n",
            " 0   Cause            1059 non-null   object \n",
            " 1   Type             1059 non-null   int64  \n",
            " 2   Year             1059 non-null   int64  \n",
            " 3   Data Redundancy  1056 non-null   float64\n",
            " 4   Total Deaths     1056 non-null   float64\n",
            " 5   Source           1059 non-null   object \n",
            " 6   Page at Source   1059 non-null   object \n",
            " 7   Source URL       1059 non-null   object \n",
            " 8   Cluster          1056 non-null   float64\n",
            "dtypes: float64(3), int64(2), object(4)\n",
            "memory usage: 74.6+ KB\n"
          ]
        }
      ],
      "source": [
        "print(\"\\nInformasi dataset:\")\n",
        "data.info()"
      ]
    },
    {
      "cell_type": "code",
      "execution_count": 76,
      "metadata": {},
      "outputs": [
        {
          "name": "stdout",
          "output_type": "stream",
          "text": [
            "\n",
            "Missing values per fitur:\n",
            "Cause              0\n",
            "Type               0\n",
            "Year               0\n",
            "Data Redundancy    3\n",
            "Total Deaths       3\n",
            "Source             0\n",
            "Page at Source     0\n",
            "Source URL         0\n",
            "Cluster            3\n",
            "dtype: int64\n",
            "------------------------------------------------------\n",
            "\n",
            "Missing values per fitur:\n",
            "Cause              0\n",
            "Type               0\n",
            "Year               0\n",
            "Data Redundancy    0\n",
            "Total Deaths       0\n",
            "Source             0\n",
            "Page at Source     0\n",
            "Source URL         0\n",
            "Cluster            0\n",
            "dtype: int64\n"
          ]
        }
      ],
      "source": [
        "print(\"\\nMissing values per fitur:\")\n",
        "print(data.isnull().sum())\n",
        "print(\"------------------------------------------------------\")\n",
        "data.dropna(inplace=True)\n",
        "print(\"\\nMissing values per fitur:\")\n",
        "print(data.isnull().sum())"
      ]
    },
    {
      "cell_type": "code",
      "execution_count": 77,
      "metadata": {},
      "outputs": [
        {
          "data": {
            "text/html": [
              "<div>\n",
              "<style scoped>\n",
              "    .dataframe tbody tr th:only-of-type {\n",
              "        vertical-align: middle;\n",
              "    }\n",
              "\n",
              "    .dataframe tbody tr th {\n",
              "        vertical-align: top;\n",
              "    }\n",
              "\n",
              "    .dataframe thead th {\n",
              "        text-align: right;\n",
              "    }\n",
              "</style>\n",
              "<table border=\"1\" class=\"dataframe\">\n",
              "  <thead>\n",
              "    <tr style=\"text-align: right;\">\n",
              "      <th></th>\n",
              "      <th>Cause</th>\n",
              "      <th>Type</th>\n",
              "      <th>Year</th>\n",
              "      <th>Data Redundancy</th>\n",
              "      <th>Total Deaths</th>\n",
              "      <th>Source</th>\n",
              "      <th>Page at Source</th>\n",
              "      <th>Source URL</th>\n",
              "      <th>Cluster</th>\n",
              "    </tr>\n",
              "  </thead>\n",
              "  <tbody>\n",
              "    <tr>\n",
              "      <th>0</th>\n",
              "      <td>1</td>\n",
              "      <td>0</td>\n",
              "      <td>2012</td>\n",
              "      <td>1.0</td>\n",
              "      <td>0.0</td>\n",
              "      <td>Profil Kesehatan Indonesia Tahun 2012</td>\n",
              "      <td>Lampiran 3.38</td>\n",
              "      <td>https://pusdatin.kemkes.go.id/download.php?fil...</td>\n",
              "      <td>0.0</td>\n",
              "    </tr>\n",
              "    <tr>\n",
              "      <th>1</th>\n",
              "      <td>0</td>\n",
              "      <td>1</td>\n",
              "      <td>2000</td>\n",
              "      <td>1.0</td>\n",
              "      <td>47.0</td>\n",
              "      <td>Profil Kesehatan Indonesia Tahun 2004</td>\n",
              "      <td>78</td>\n",
              "      <td>https://pusdatin.kemkes.go.id/download.php?fil...</td>\n",
              "      <td>0.0</td>\n",
              "    </tr>\n",
              "    <tr>\n",
              "      <th>2</th>\n",
              "      <td>0</td>\n",
              "      <td>1</td>\n",
              "      <td>2001</td>\n",
              "      <td>1.0</td>\n",
              "      <td>99.0</td>\n",
              "      <td>Profil Kesehatan Indonesia Tahun 2004</td>\n",
              "      <td>78</td>\n",
              "      <td>https://pusdatin.kemkes.go.id/download.php?fil...</td>\n",
              "      <td>0.0</td>\n",
              "    </tr>\n",
              "    <tr>\n",
              "      <th>3</th>\n",
              "      <td>0</td>\n",
              "      <td>1</td>\n",
              "      <td>2002</td>\n",
              "      <td>1.0</td>\n",
              "      <td>100.0</td>\n",
              "      <td>Profil Kesehatan Indonesia Tahun 2004</td>\n",
              "      <td>78</td>\n",
              "      <td>https://pusdatin.kemkes.go.id/download.php?fil...</td>\n",
              "      <td>0.0</td>\n",
              "    </tr>\n",
              "    <tr>\n",
              "      <th>4</th>\n",
              "      <td>0</td>\n",
              "      <td>1</td>\n",
              "      <td>2003</td>\n",
              "      <td>5.0</td>\n",
              "      <td>261.0</td>\n",
              "      <td>Profil Kesehatan Indonesia Tahun 2004</td>\n",
              "      <td>78</td>\n",
              "      <td>https://pusdatin.kemkes.go.id/download.php?fil...</td>\n",
              "      <td>0.0</td>\n",
              "    </tr>\n",
              "  </tbody>\n",
              "</table>\n",
              "</div>"
            ],
            "text/plain": [
              "   Cause  Type  Year  Data Redundancy  Total Deaths  \\\n",
              "0      1     0  2012              1.0           0.0   \n",
              "1      0     1  2000              1.0          47.0   \n",
              "2      0     1  2001              1.0          99.0   \n",
              "3      0     1  2002              1.0         100.0   \n",
              "4      0     1  2003              5.0         261.0   \n",
              "\n",
              "                                  Source Page at Source  \\\n",
              "0  Profil Kesehatan Indonesia Tahun 2012  Lampiran 3.38   \n",
              "1  Profil Kesehatan Indonesia Tahun 2004             78   \n",
              "2  Profil Kesehatan Indonesia Tahun 2004             78   \n",
              "3  Profil Kesehatan Indonesia Tahun 2004             78   \n",
              "4  Profil Kesehatan Indonesia Tahun 2004             78   \n",
              "\n",
              "                                          Source URL  Cluster  \n",
              "0  https://pusdatin.kemkes.go.id/download.php?fil...      0.0  \n",
              "1  https://pusdatin.kemkes.go.id/download.php?fil...      0.0  \n",
              "2  https://pusdatin.kemkes.go.id/download.php?fil...      0.0  \n",
              "3  https://pusdatin.kemkes.go.id/download.php?fil...      0.0  \n",
              "4  https://pusdatin.kemkes.go.id/download.php?fil...      0.0  "
            ]
          },
          "execution_count": 77,
          "metadata": {},
          "output_type": "execute_result"
        }
      ],
      "source": [
        "label_encoder = LabelEncoder()\n",
        "data[\"Cause\"] = label_encoder.fit_transform(data[\"Cause\"])\n",
        "\n",
        "data.head()"
      ]
    },
    {
      "cell_type": "code",
      "execution_count": 78,
      "metadata": {},
      "outputs": [
        {
          "data": {
            "text/html": [
              "<div>\n",
              "<style scoped>\n",
              "    .dataframe tbody tr th:only-of-type {\n",
              "        vertical-align: middle;\n",
              "    }\n",
              "\n",
              "    .dataframe tbody tr th {\n",
              "        vertical-align: top;\n",
              "    }\n",
              "\n",
              "    .dataframe thead th {\n",
              "        text-align: right;\n",
              "    }\n",
              "</style>\n",
              "<table border=\"1\" class=\"dataframe\">\n",
              "  <thead>\n",
              "    <tr style=\"text-align: right;\">\n",
              "      <th></th>\n",
              "      <th>Cause</th>\n",
              "      <th>Type</th>\n",
              "      <th>Year</th>\n",
              "      <th>Data Redundancy</th>\n",
              "      <th>Total Deaths</th>\n",
              "      <th>Cluster</th>\n",
              "    </tr>\n",
              "  </thead>\n",
              "  <tbody>\n",
              "    <tr>\n",
              "      <th>0</th>\n",
              "      <td>1</td>\n",
              "      <td>0</td>\n",
              "      <td>2012</td>\n",
              "      <td>1.0</td>\n",
              "      <td>0.0</td>\n",
              "      <td>0.0</td>\n",
              "    </tr>\n",
              "    <tr>\n",
              "      <th>1</th>\n",
              "      <td>0</td>\n",
              "      <td>1</td>\n",
              "      <td>2000</td>\n",
              "      <td>1.0</td>\n",
              "      <td>47.0</td>\n",
              "      <td>0.0</td>\n",
              "    </tr>\n",
              "    <tr>\n",
              "      <th>2</th>\n",
              "      <td>0</td>\n",
              "      <td>1</td>\n",
              "      <td>2001</td>\n",
              "      <td>1.0</td>\n",
              "      <td>99.0</td>\n",
              "      <td>0.0</td>\n",
              "    </tr>\n",
              "    <tr>\n",
              "      <th>3</th>\n",
              "      <td>0</td>\n",
              "      <td>1</td>\n",
              "      <td>2002</td>\n",
              "      <td>1.0</td>\n",
              "      <td>100.0</td>\n",
              "      <td>0.0</td>\n",
              "    </tr>\n",
              "    <tr>\n",
              "      <th>4</th>\n",
              "      <td>0</td>\n",
              "      <td>1</td>\n",
              "      <td>2003</td>\n",
              "      <td>5.0</td>\n",
              "      <td>261.0</td>\n",
              "      <td>0.0</td>\n",
              "    </tr>\n",
              "  </tbody>\n",
              "</table>\n",
              "</div>"
            ],
            "text/plain": [
              "   Cause  Type  Year  Data Redundancy  Total Deaths  Cluster\n",
              "0      1     0  2012              1.0           0.0      0.0\n",
              "1      0     1  2000              1.0          47.0      0.0\n",
              "2      0     1  2001              1.0          99.0      0.0\n",
              "3      0     1  2002              1.0         100.0      0.0\n",
              "4      0     1  2003              5.0         261.0      0.0"
            ]
          },
          "execution_count": 78,
          "metadata": {},
          "output_type": "execute_result"
        }
      ],
      "source": [
        "data = data.drop(columns=['Source', 'Page at Source', 'Source URL'])\n",
        "data.head()"
      ]
    },
    {
      "cell_type": "markdown",
      "metadata": {
        "id": "KkPem5eWL2UP"
      },
      "source": [
        "# **3. Data Splitting**"
      ]
    },
    {
      "cell_type": "markdown",
      "metadata": {
        "id": "YYj1rl_JNI9Y"
      },
      "source": [
        "Tahap Data Splitting bertujuan untuk memisahkan dataset menjadi dua bagian: data latih (training set) dan data uji (test set)."
      ]
    },
    {
      "cell_type": "code",
      "execution_count": 80,
      "metadata": {
        "id": "OubAW-7ONKVj"
      },
      "outputs": [
        {
          "name": "stdout",
          "output_type": "stream",
          "text": [
            "Training set shape: X_train=(844, 5), y_train=(844,)\n",
            "Test set shape: X_test=(212, 5), y_test=(212,)\n"
          ]
        }
      ],
      "source": [
        "scaler = MinMaxScaler()\n",
        "numeric_columns = data.drop(columns=['Cluster']).select_dtypes(include=['int64', 'float64']).columns \n",
        "data[numeric_columns] = scaler.fit_transform(data[numeric_columns])\n",
        "\n",
        "\n",
        "X = data.drop(columns=['Cluster'])  \n",
        "y = data['Cluster'].astype(int)\n",
        "\n",
        "X_train, X_test, y_train, y_test = train_test_split(X, y, test_size=0.2, random_state=42)\n",
        "\n",
        "print(f\"Training set shape: X_train={X_train.shape}, y_train={y_train.shape}\")\n",
        "print(f\"Test set shape: X_test={X_test.shape}, y_test={y_test.shape}\")"
      ]
    },
    {
      "cell_type": "markdown",
      "metadata": {
        "id": "IVPbB03CMhTT"
      },
      "source": [
        "# **4. Membangun Model Klasifikasi**\n"
      ]
    },
    {
      "cell_type": "markdown",
      "metadata": {
        "id": "Ned1pL9zMmBK"
      },
      "source": [
        "## **a. Membangun Model Klasifikasi**"
      ]
    },
    {
      "cell_type": "markdown",
      "metadata": {
        "id": "WAWzPOE4Nkti"
      },
      "source": [
        "Setelah memilih algoritma klasifikasi yang sesuai, langkah selanjutnya adalah melatih model menggunakan data latih.\n",
        "\n",
        "Berikut adalah rekomendasi tahapannya.\n",
        "1. Pilih algoritma klasifikasi yang sesuai, seperti Logistic Regression, Decision Tree, Random Forest, atau K-Nearest Neighbors (KNN).\n",
        "2. Latih model menggunakan data latih."
      ]
    },
    {
      "cell_type": "code",
      "execution_count": 81,
      "metadata": {
        "id": "4JYxBe87NLDk"
      },
      "outputs": [
        {
          "name": "stdout",
          "output_type": "stream",
          "text": [
            "Model training selesai.\n"
          ]
        }
      ],
      "source": [
        "rf = RandomForestClassifier().fit(X_train, y_train)\n",
        "print(\"Model training selesai.\")"
      ]
    },
    {
      "cell_type": "markdown",
      "metadata": {
        "id": "seYoHNY3XU1y"
      },
      "source": [
        "Tulis narasi atau penjelasan algoritma yang Anda gunakan."
      ]
    },
    {
      "cell_type": "markdown",
      "metadata": {
        "id": "ergzChZFEL-O"
      },
      "source": [
        "## **b. Evaluasi Model Klasifikasi**"
      ]
    },
    {
      "cell_type": "markdown",
      "metadata": {
        "id": "zOm68u-7NpLT"
      },
      "source": [
        "Berikut adalah **rekomendasi** tahapannya.\n",
        "1. Lakukan prediksi menggunakan data uji.\n",
        "2. Hitung metrik evaluasi seperti Accuracy dan F1-Score (Opsional: Precision dan Recall).\n",
        "3. Buat confusion matrix untuk melihat detail prediksi benar dan salah."
      ]
    },
    {
      "cell_type": "code",
      "execution_count": 82,
      "metadata": {
        "id": "tMq4QAssNLip"
      },
      "outputs": [],
      "source": [
        "# 1\n",
        "y_pred = rf.predict(X_test)"
      ]
    },
    {
      "cell_type": "code",
      "execution_count": 84,
      "metadata": {},
      "outputs": [
        {
          "name": "stdout",
          "output_type": "stream",
          "text": [
            "Accuracy: 0.9953\n",
            "F1-Score: 0.9931\n",
            "Precision: 0.9914\n",
            "Recall: 0.9953\n"
          ]
        },
        {
          "name": "stderr",
          "output_type": "stream",
          "text": [
            "c:\\Users\\acer\\AppData\\Local\\Programs\\Python\\Python313\\Lib\\site-packages\\sklearn\\metrics\\_classification.py:1565: UndefinedMetricWarning: Precision is ill-defined and being set to 0.0 in labels with no predicted samples. Use `zero_division` parameter to control this behavior.\n",
            "  _warn_prf(average, modifier, f\"{metric.capitalize()} is\", len(result))\n"
          ]
        }
      ],
      "source": [
        "# 2\n",
        "accuracy = accuracy_score(y_test, y_pred)\n",
        "f1 = f1_score(y_test, y_pred, average='weighted')  # 'weighted' cocok untuk multi-class\n",
        "precision = precision_score(y_test, y_pred, average='weighted')\n",
        "recall = recall_score(y_test, y_pred, average='weighted')\n",
        "\n",
        "print(f\"Accuracy: {accuracy:.4f}\")\n",
        "print(f\"F1-Score: {f1:.4f}\")\n",
        "print(f\"Precision: {precision:.4f}\")\n",
        "print(f\"Recall: {recall:.4f}\")"
      ]
    },
    {
      "cell_type": "code",
      "execution_count": 87,
      "metadata": {},
      "outputs": [
        {
          "data": {
            "image/png": "[encoded data removed]",
            "text/plain": [
              "<Figure size 600x400 with 2 Axes>"
            ]
          },
          "metadata": {},
          "output_type": "display_data"
        }
      ],
      "source": [
        "cm = confusion_matrix(y_test, y_pred)\n",
        "\n",
        "plt.figure(figsize=(6, 4))\n",
        "sns.heatmap(cm, annot=True, fmt='d', cmap='Blues', xticklabels=set(y_test), yticklabels=set(y_test))\n",
        "plt.xlabel('Predicted')\n",
        "plt.ylabel('Actual')\n",
        "plt.title('Confusion Matrix')\n",
        "plt.show()"
      ]
    },
    {
      "cell_type": "markdown",
      "metadata": {
        "id": "H4_9OwrsXZlz"
      },
      "source": [
        "Tulis hasil evaluasi algoritma yang digunakan, jika Anda menggunakan 2 algoritma, maka bandingkan hasilnya."
      ]
    },
    {
      "cell_type": "markdown",
      "metadata": {
        "id": "ph9yIYDXEPuB"
      },
      "source": [
        "## **c. Tuning Model Klasifikasi (Optional)**"
      ]
    },
    {
      "cell_type": "markdown",
      "metadata": {
        "id": "-Bikx3LINv5e"
      },
      "source": [
        "Gunakan GridSearchCV, RandomizedSearchCV, atau metode lainnya untuk mencari kombinasi hyperparameter terbaik"
      ]
    },
    {
      "cell_type": "code",
      "execution_count": null,
      "metadata": {
        "id": "winbFzb8NL95"
      },
      "outputs": [],
      "source": [
        "#Type your code here"
      ]
    },
    {
      "cell_type": "markdown",
      "metadata": {
        "id": "hE7pqlEPEYzI"
      },
      "source": [
        "## **d. Evaluasi Model Klasifikasi setelah Tuning (Optional)**"
      ]
    },
    {
      "cell_type": "markdown",
      "metadata": {
        "id": "feaPESoeN0zz"
      },
      "source": [
        "Berikut adalah rekomendasi tahapannya.\n",
        "1. Gunakan model dengan hyperparameter terbaik.\n",
        "2. Hitung ulang metrik evaluasi untuk melihat apakah ada peningkatan performa."
      ]
    },
    {
      "cell_type": "code",
      "execution_count": null,
      "metadata": {
        "id": "HTXZRvEeNMb1"
      },
      "outputs": [],
      "source": [
        "#Type your code here"
      ]
    },
    {
      "cell_type": "markdown",
      "metadata": {
        "id": "ZRsOdm4uEgAW"
      },
      "source": [
        "## **e. Analisis Hasil Evaluasi Model Klasifikasi**"
      ]
    },
    {
      "cell_type": "markdown",
      "metadata": {
        "id": "Hm3BhSi6N4_l"
      },
      "source": [
        "Berikut adalah **rekomendasi** tahapannya.\n",
        "1. Bandingkan hasil evaluasi sebelum dan setelah tuning (jika dilakukan).\n",
        "2. Identifikasi kelemahan model, seperti:\n",
        "  - Precision atau Recall rendah untuk kelas tertentu.\n",
        "  - Apakah model mengalami overfitting atau underfitting?\n",
        "3. Berikan rekomendasi tindakan lanjutan, seperti mengumpulkan data tambahan atau mencoba algoritma lain jika hasil belum memuaskan."
      ]
    },
    {
      "cell_type": "markdown",
      "metadata": {},
      "source": [
        "2. Identifikasi kelemahan model\n",
        "- hanya ada satu False Positive yaitu ketika model memprdiksi kelas 1 padahal sebenarnya kelas 0 berarti model memiliki kemungkinan kecil untuk memberikan kesalahan dalam mendeteksi kategori tertentu\n",
        "- jika model bekerja dengan data real time kemungkinan bisa jadi performanya berubah\n",
        "- Kelas 1 memiliki performa yang buruk dengan 1 prediksi benar\n",
        "- Kelas 2: model memprediksi 5 sampel sebagai kelas 2 tetapi mungkin ada beberapa yang seharusnya tidak masuk kategori ini\n",
        "- sepertinya model terlalu mengandalkan data dari kelas dominan\n",
        "\n",
        "\n",
        "3. Berikan rekomendasi tindakan lanjutan, seperti mengumpulkan data tambahan atau mencoba algoritma lain jika hasil belum memuaskan.\n",
        "- menambahkan lebih banyak data minoritas\n",
        "- melakukan exspolarasi fitur tambahan seperti usia atau kondisi kesehatan\n",
        "- menangani data tidak seimbang dengan mengurangi undersampling pada kelas mayoritas, mengurangi jumlah sampel dari kelas mayoritas (kelas 0) agar model tidak hanya belajar dari kelas dominan\n",
        "\n"
      ]
    }
  ],
  "metadata": {
    "colab": {
      "provenance": []
    },
    "kernelspec": {
      "display_name": "Python 3",
      "name": "python3"
    },
    "language_info": {
      "codemirror_mode": {
        "name": "ipython",
        "version": 3
      },
      "file_extension": ".py",
      "mimetype": "text/x-python",
      "name": "python",
      "nbconvert_exporter": "python",
      "pygments_lexer": "ipython3",
      "version": "3.13.0"
    }
  },
  "nbformat": 4,
  "nbformat_minor": 0
}
